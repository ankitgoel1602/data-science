{
  "cells": [
    {
      "cell_type": "markdown",
      "metadata": {
        "id": "view-in-github",
        "colab_type": "text"
      },
      "source": [
        "<a href=\"https://colab.research.google.com/github/ankitgoel1602/data-science/blob/master/data-analysis/pandas-groups/pandas_apply_user_defined_functions_on_groups.ipynb\" target=\"_parent\"><img src=\"https://colab.research.google.com/assets/colab-badge.svg\" alt=\"Open In Colab\"/></a>"
      ]
    },
    {
      "cell_type": "markdown",
      "metadata": {
        "id": "jZwXZb44SZvq"
      },
      "source": [
        "# Import required libraries"
      ]
    },
    {
      "cell_type": "code",
      "execution_count": null,
      "metadata": {
        "id": "3inkd7cmSzTF"
      },
      "outputs": [],
      "source": [
        "# upgrading Pandas\n",
        "# !pip install -U pandas"
      ]
    },
    {
      "cell_type": "code",
      "execution_count": null,
      "metadata": {
        "id": "WFCEDfc6ReoF"
      },
      "outputs": [],
      "source": [
        "from google.colab import drive\n",
        "drive.mount('/content/drive')"
      ]
    },
    {
      "cell_type": "code",
      "execution_count": null,
      "metadata": {
        "id": "05xpZqh-SZvr"
      },
      "outputs": [],
      "source": [
        "# import pandas, you should have Pandas version > 1.10.\n",
        "import pandas as pd\n",
        "\n",
        "# set max columns to display\n",
        "pd.set_option('display.max_columns', 50)\n",
        "pd.set_option('display.max_colwidth', 200)"
      ]
    },
    {
      "cell_type": "markdown",
      "metadata": {
        "id": "5PGKjhaaSZvv"
      },
      "source": [
        "# Dataset Details\n",
        "\n",
        "The dataset which we are going to use here is the time-series data provided by <a href=\"https://data.worldbank.org/\"> World Bank Open data </a> and is related to the crowd-sourced price data collected from 15 countries. For more details about the data, refer <a href=\"https://datacatalog.worldbank.org/dataset/crowdsourced-price-data-collection-pilot\"> Crowdsourced Price Data Collection Pilot </a>.For this exercise, we are going to use data collected for Argentina."
      ]
    },
    {
      "cell_type": "code",
      "execution_count": null,
      "metadata": {
        "colab": {
          "background_save": true,
          "base_uri": "https://localhost:8080/"
        },
        "id": "u13P-q46S-qM",
        "outputId": "09d1b85d-4877-448e-a555-f93c1181c2f1"
      },
      "outputs": [
        {
          "data": {
            "text/html": [
              "\n",
              "     <input type=\"file\" id=\"files-1be6b9bb-c768-480d-b2a3-e621d7c4f723\" name=\"files[]\" multiple disabled\n",
              "        style=\"border:none\" />\n",
              "     <output id=\"result-1be6b9bb-c768-480d-b2a3-e621d7c4f723\">\n",
              "      Upload widget is only available when the cell has been executed in the\n",
              "      current browser session. Please rerun this cell to enable.\n",
              "      </output>\n",
              "      <script>// Copyright 2017 Google LLC\n",
              "//\n",
              "// Licensed under the Apache License, Version 2.0 (the \"License\");\n",
              "// you may not use this file except in compliance with the License.\n",
              "// You may obtain a copy of the License at\n",
              "//\n",
              "//      http://www.apache.org/licenses/LICENSE-2.0\n",
              "//\n",
              "// Unless required by applicable law or agreed to in writing, software\n",
              "// distributed under the License is distributed on an \"AS IS\" BASIS,\n",
              "// WITHOUT WARRANTIES OR CONDITIONS OF ANY KIND, either express or implied.\n",
              "// See the License for the specific language governing permissions and\n",
              "// limitations under the License.\n",
              "\n",
              "/**\n",
              " * @fileoverview Helpers for google.colab Python module.\n",
              " */\n",
              "(function(scope) {\n",
              "function span(text, styleAttributes = {}) {\n",
              "  const element = document.createElement('span');\n",
              "  element.textContent = text;\n",
              "  for (const key of Object.keys(styleAttributes)) {\n",
              "    element.style[key] = styleAttributes[key];\n",
              "  }\n",
              "  return element;\n",
              "}\n",
              "\n",
              "// Max number of bytes which will be uploaded at a time.\n",
              "const MAX_PAYLOAD_SIZE = 100 * 1024;\n",
              "\n",
              "function _uploadFiles(inputId, outputId) {\n",
              "  const steps = uploadFilesStep(inputId, outputId);\n",
              "  const outputElement = document.getElementById(outputId);\n",
              "  // Cache steps on the outputElement to make it available for the next call\n",
              "  // to uploadFilesContinue from Python.\n",
              "  outputElement.steps = steps;\n",
              "\n",
              "  return _uploadFilesContinue(outputId);\n",
              "}\n",
              "\n",
              "// This is roughly an async generator (not supported in the browser yet),\n",
              "// where there are multiple asynchronous steps and the Python side is going\n",
              "// to poll for completion of each step.\n",
              "// This uses a Promise to block the python side on completion of each step,\n",
              "// then passes the result of the previous step as the input to the next step.\n",
              "function _uploadFilesContinue(outputId) {\n",
              "  const outputElement = document.getElementById(outputId);\n",
              "  const steps = outputElement.steps;\n",
              "\n",
              "  const next = steps.next(outputElement.lastPromiseValue);\n",
              "  return Promise.resolve(next.value.promise).then((value) => {\n",
              "    // Cache the last promise value to make it available to the next\n",
              "    // step of the generator.\n",
              "    outputElement.lastPromiseValue = value;\n",
              "    return next.value.response;\n",
              "  });\n",
              "}\n",
              "\n",
              "/**\n",
              " * Generator function which is called between each async step of the upload\n",
              " * process.\n",
              " * @param {string} inputId Element ID of the input file picker element.\n",
              " * @param {string} outputId Element ID of the output display.\n",
              " * @return {!Iterable<!Object>} Iterable of next steps.\n",
              " */\n",
              "function* uploadFilesStep(inputId, outputId) {\n",
              "  const inputElement = document.getElementById(inputId);\n",
              "  inputElement.disabled = false;\n",
              "\n",
              "  const outputElement = document.getElementById(outputId);\n",
              "  outputElement.innerHTML = '';\n",
              "\n",
              "  const pickedPromise = new Promise((resolve) => {\n",
              "    inputElement.addEventListener('change', (e) => {\n",
              "      resolve(e.target.files);\n",
              "    });\n",
              "  });\n",
              "\n",
              "  const cancel = document.createElement('button');\n",
              "  inputElement.parentElement.appendChild(cancel);\n",
              "  cancel.textContent = 'Cancel upload';\n",
              "  const cancelPromise = new Promise((resolve) => {\n",
              "    cancel.onclick = () => {\n",
              "      resolve(null);\n",
              "    };\n",
              "  });\n",
              "\n",
              "  // Wait for the user to pick the files.\n",
              "  const files = yield {\n",
              "    promise: Promise.race([pickedPromise, cancelPromise]),\n",
              "    response: {\n",
              "      action: 'starting',\n",
              "    }\n",
              "  };\n",
              "\n",
              "  cancel.remove();\n",
              "\n",
              "  // Disable the input element since further picks are not allowed.\n",
              "  inputElement.disabled = true;\n",
              "\n",
              "  if (!files) {\n",
              "    return {\n",
              "      response: {\n",
              "        action: 'complete',\n",
              "      }\n",
              "    };\n",
              "  }\n",
              "\n",
              "  for (const file of files) {\n",
              "    const li = document.createElement('li');\n",
              "    li.append(span(file.name, {fontWeight: 'bold'}));\n",
              "    li.append(span(\n",
              "        `(${file.type || 'n/a'}) - ${file.size} bytes, ` +\n",
              "        `last modified: ${\n",
              "            file.lastModifiedDate ? file.lastModifiedDate.toLocaleDateString() :\n",
              "                                    'n/a'} - `));\n",
              "    const percent = span('0% done');\n",
              "    li.appendChild(percent);\n",
              "\n",
              "    outputElement.appendChild(li);\n",
              "\n",
              "    const fileDataPromise = new Promise((resolve) => {\n",
              "      const reader = new FileReader();\n",
              "      reader.onload = (e) => {\n",
              "        resolve(e.target.result);\n",
              "      };\n",
              "      reader.readAsArrayBuffer(file);\n",
              "    });\n",
              "    // Wait for the data to be ready.\n",
              "    let fileData = yield {\n",
              "      promise: fileDataPromise,\n",
              "      response: {\n",
              "        action: 'continue',\n",
              "      }\n",
              "    };\n",
              "\n",
              "    // Use a chunked sending to avoid message size limits. See b/62115660.\n",
              "    let position = 0;\n",
              "    do {\n",
              "      const length = Math.min(fileData.byteLength - position, MAX_PAYLOAD_SIZE);\n",
              "      const chunk = new Uint8Array(fileData, position, length);\n",
              "      position += length;\n",
              "\n",
              "      const base64 = btoa(String.fromCharCode.apply(null, chunk));\n",
              "      yield {\n",
              "        response: {\n",
              "          action: 'append',\n",
              "          file: file.name,\n",
              "          data: base64,\n",
              "        },\n",
              "      };\n",
              "\n",
              "      let percentDone = fileData.byteLength === 0 ?\n",
              "          100 :\n",
              "          Math.round((position / fileData.byteLength) * 100);\n",
              "      percent.textContent = `${percentDone}% done`;\n",
              "\n",
              "    } while (position < fileData.byteLength);\n",
              "  }\n",
              "\n",
              "  // All done.\n",
              "  yield {\n",
              "    response: {\n",
              "      action: 'complete',\n",
              "    }\n",
              "  };\n",
              "}\n",
              "\n",
              "scope.google = scope.google || {};\n",
              "scope.google.colab = scope.google.colab || {};\n",
              "scope.google.colab._files = {\n",
              "  _uploadFiles,\n",
              "  _uploadFilesContinue,\n",
              "};\n",
              "})(self);\n",
              "</script> "
            ],
            "text/plain": [
              "<IPython.core.display.HTML object>"
            ]
          },
          "metadata": {},
          "output_type": "display_data"
        }
      ],
      "source": [
        "# uploading the file on google cloud.\n",
        "# you can get the file from GITHUB and upload it here.\n",
        "from google.colab import files\n",
        "uploaded = files.upload()"
      ]
    },
    {
      "cell_type": "code",
      "execution_count": null,
      "metadata": {
        "colab": {
          "base_uri": "https://localhost:8080/",
          "height": 478
        },
        "id": "sVMwZg47SZvv",
        "outputId": "eebba2c8-ab21-4e80-a0b1-6552987ab389"
      },
      "outputs": [
        {
          "ename": "ParserError",
          "evalue": "Error tokenizing data. C error: Expected 1 fields in line 40, saw 23\n",
          "output_type": "error",
          "traceback": [
            "\u001b[0;31m---------------------------------------------------------------------------\u001b[0m",
            "\u001b[0;31mParserError\u001b[0m                               Traceback (most recent call last)",
            "\u001b[0;32m<ipython-input-10-90c8c45f53e6>\u001b[0m in \u001b[0;36m<cell line: 2>\u001b[0;34m()\u001b[0m\n\u001b[1;32m      1\u001b[0m \u001b[0;31m# importing data\u001b[0m\u001b[0;34m\u001b[0m\u001b[0;34m\u001b[0m\u001b[0m\n\u001b[0;32m----> 2\u001b[0;31m \u001b[0minitial_data\u001b[0m \u001b[0;34m=\u001b[0m \u001b[0mpd\u001b[0m\u001b[0;34m.\u001b[0m\u001b[0mread_csv\u001b[0m\u001b[0;34m(\u001b[0m\u001b[0;34m'arg-crowdsourcedpdcpilot02_final_obs_all_clean.csv'\u001b[0m\u001b[0;34m)\u001b[0m\u001b[0;34m\u001b[0m\u001b[0;34m\u001b[0m\u001b[0m\n\u001b[0m",
            "\u001b[0;32m/usr/local/lib/python3.10/dist-packages/pandas/io/parsers/readers.py\u001b[0m in \u001b[0;36mread_csv\u001b[0;34m(filepath_or_buffer, sep, delimiter, header, names, index_col, usecols, dtype, engine, converters, true_values, false_values, skipinitialspace, skiprows, skipfooter, nrows, na_values, keep_default_na, na_filter, verbose, skip_blank_lines, parse_dates, infer_datetime_format, keep_date_col, date_parser, date_format, dayfirst, cache_dates, iterator, chunksize, compression, thousands, decimal, lineterminator, quotechar, quoting, doublequote, escapechar, comment, encoding, encoding_errors, dialect, on_bad_lines, delim_whitespace, low_memory, memory_map, float_precision, storage_options, dtype_backend)\u001b[0m\n\u001b[1;32m    946\u001b[0m     \u001b[0mkwds\u001b[0m\u001b[0;34m.\u001b[0m\u001b[0mupdate\u001b[0m\u001b[0;34m(\u001b[0m\u001b[0mkwds_defaults\u001b[0m\u001b[0;34m)\u001b[0m\u001b[0;34m\u001b[0m\u001b[0;34m\u001b[0m\u001b[0m\n\u001b[1;32m    947\u001b[0m \u001b[0;34m\u001b[0m\u001b[0m\n\u001b[0;32m--> 948\u001b[0;31m     \u001b[0;32mreturn\u001b[0m \u001b[0m_read\u001b[0m\u001b[0;34m(\u001b[0m\u001b[0mfilepath_or_buffer\u001b[0m\u001b[0;34m,\u001b[0m \u001b[0mkwds\u001b[0m\u001b[0;34m)\u001b[0m\u001b[0;34m\u001b[0m\u001b[0;34m\u001b[0m\u001b[0m\n\u001b[0m\u001b[1;32m    949\u001b[0m \u001b[0;34m\u001b[0m\u001b[0m\n\u001b[1;32m    950\u001b[0m \u001b[0;34m\u001b[0m\u001b[0m\n",
            "\u001b[0;32m/usr/local/lib/python3.10/dist-packages/pandas/io/parsers/readers.py\u001b[0m in \u001b[0;36m_read\u001b[0;34m(filepath_or_buffer, kwds)\u001b[0m\n\u001b[1;32m    615\u001b[0m \u001b[0;34m\u001b[0m\u001b[0m\n\u001b[1;32m    616\u001b[0m     \u001b[0;32mwith\u001b[0m \u001b[0mparser\u001b[0m\u001b[0;34m:\u001b[0m\u001b[0;34m\u001b[0m\u001b[0;34m\u001b[0m\u001b[0m\n\u001b[0;32m--> 617\u001b[0;31m         \u001b[0;32mreturn\u001b[0m \u001b[0mparser\u001b[0m\u001b[0;34m.\u001b[0m\u001b[0mread\u001b[0m\u001b[0;34m(\u001b[0m\u001b[0mnrows\u001b[0m\u001b[0;34m)\u001b[0m\u001b[0;34m\u001b[0m\u001b[0;34m\u001b[0m\u001b[0m\n\u001b[0m\u001b[1;32m    618\u001b[0m \u001b[0;34m\u001b[0m\u001b[0m\n\u001b[1;32m    619\u001b[0m \u001b[0;34m\u001b[0m\u001b[0m\n",
            "\u001b[0;32m/usr/local/lib/python3.10/dist-packages/pandas/io/parsers/readers.py\u001b[0m in \u001b[0;36mread\u001b[0;34m(self, nrows)\u001b[0m\n\u001b[1;32m   1746\u001b[0m                     \u001b[0mcolumns\u001b[0m\u001b[0;34m,\u001b[0m\u001b[0;34m\u001b[0m\u001b[0;34m\u001b[0m\u001b[0m\n\u001b[1;32m   1747\u001b[0m                     \u001b[0mcol_dict\u001b[0m\u001b[0;34m,\u001b[0m\u001b[0;34m\u001b[0m\u001b[0;34m\u001b[0m\u001b[0m\n\u001b[0;32m-> 1748\u001b[0;31m                 \u001b[0;34m)\u001b[0m \u001b[0;34m=\u001b[0m \u001b[0mself\u001b[0m\u001b[0;34m.\u001b[0m\u001b[0m_engine\u001b[0m\u001b[0;34m.\u001b[0m\u001b[0mread\u001b[0m\u001b[0;34m(\u001b[0m  \u001b[0;31m# type: ignore[attr-defined]\u001b[0m\u001b[0;34m\u001b[0m\u001b[0;34m\u001b[0m\u001b[0m\n\u001b[0m\u001b[1;32m   1749\u001b[0m                     \u001b[0mnrows\u001b[0m\u001b[0;34m\u001b[0m\u001b[0;34m\u001b[0m\u001b[0m\n\u001b[1;32m   1750\u001b[0m                 )\n",
            "\u001b[0;32m/usr/local/lib/python3.10/dist-packages/pandas/io/parsers/c_parser_wrapper.py\u001b[0m in \u001b[0;36mread\u001b[0;34m(self, nrows)\u001b[0m\n\u001b[1;32m    232\u001b[0m         \u001b[0;32mtry\u001b[0m\u001b[0;34m:\u001b[0m\u001b[0;34m\u001b[0m\u001b[0;34m\u001b[0m\u001b[0m\n\u001b[1;32m    233\u001b[0m             \u001b[0;32mif\u001b[0m \u001b[0mself\u001b[0m\u001b[0;34m.\u001b[0m\u001b[0mlow_memory\u001b[0m\u001b[0;34m:\u001b[0m\u001b[0;34m\u001b[0m\u001b[0;34m\u001b[0m\u001b[0m\n\u001b[0;32m--> 234\u001b[0;31m                 \u001b[0mchunks\u001b[0m \u001b[0;34m=\u001b[0m \u001b[0mself\u001b[0m\u001b[0;34m.\u001b[0m\u001b[0m_reader\u001b[0m\u001b[0;34m.\u001b[0m\u001b[0mread_low_memory\u001b[0m\u001b[0;34m(\u001b[0m\u001b[0mnrows\u001b[0m\u001b[0;34m)\u001b[0m\u001b[0;34m\u001b[0m\u001b[0;34m\u001b[0m\u001b[0m\n\u001b[0m\u001b[1;32m    235\u001b[0m                 \u001b[0;31m# destructive to chunks\u001b[0m\u001b[0;34m\u001b[0m\u001b[0;34m\u001b[0m\u001b[0m\n\u001b[1;32m    236\u001b[0m                 \u001b[0mdata\u001b[0m \u001b[0;34m=\u001b[0m \u001b[0m_concatenate_chunks\u001b[0m\u001b[0;34m(\u001b[0m\u001b[0mchunks\u001b[0m\u001b[0;34m)\u001b[0m\u001b[0;34m\u001b[0m\u001b[0;34m\u001b[0m\u001b[0m\n",
            "\u001b[0;32mparsers.pyx\u001b[0m in \u001b[0;36mpandas._libs.parsers.TextReader.read_low_memory\u001b[0;34m()\u001b[0m\n",
            "\u001b[0;32mparsers.pyx\u001b[0m in \u001b[0;36mpandas._libs.parsers.TextReader._read_rows\u001b[0;34m()\u001b[0m\n",
            "\u001b[0;32mparsers.pyx\u001b[0m in \u001b[0;36mpandas._libs.parsers.TextReader._tokenize_rows\u001b[0;34m()\u001b[0m\n",
            "\u001b[0;32mparsers.pyx\u001b[0m in \u001b[0;36mpandas._libs.parsers.TextReader._check_tokenize_status\u001b[0;34m()\u001b[0m\n",
            "\u001b[0;32mparsers.pyx\u001b[0m in \u001b[0;36mpandas._libs.parsers.raise_parser_error\u001b[0;34m()\u001b[0m\n",
            "\u001b[0;31mParserError\u001b[0m: Error tokenizing data. C error: Expected 1 fields in line 40, saw 23\n"
          ]
        }
      ],
      "source": [
        "# importing data\n",
        "initial_data = pd.read_csv('arg-crowdsourcedpdcpilot02_final_obs_all_clean.csv', parse_dates=['created_at'])"
      ]
    },
    {
      "cell_type": "code",
      "execution_count": null,
      "metadata": {
        "id": "tuztkmgXSZvy",
        "scrolled": true
      },
      "outputs": [],
      "source": [
        "# top 5 rows\n",
        "initial_data.head(5)"
      ]
    },
    {
      "cell_type": "code",
      "execution_count": null,
      "metadata": {
        "id": "boNiKqHTSZv1"
      },
      "outputs": [],
      "source": [
        "# Lets select few columns for this exercise\n",
        "columns_to_select = ['item_name','bh_name', 'brand', 'size', 'quantity', 'price', 'store_type', 'city_radius']"
      ]
    },
    {
      "cell_type": "code",
      "execution_count": null,
      "metadata": {
        "id": "eYw9rn7fSZv3"
      },
      "outputs": [],
      "source": [
        "data = initial_data[columns_to_select]"
      ]
    },
    {
      "cell_type": "code",
      "execution_count": null,
      "metadata": {
        "colab": {
          "base_uri": "https://localhost:8080/",
          "height": 258
        },
        "id": "Ml2Xi0ujSZv5",
        "outputId": "16f81696-7fe7-4bfa-ff59-f89f91b33c7b"
      },
      "outputs": [
        {
          "data": {
            "text/html": [
              "\n",
              "  <div id=\"df-076c9200-e963-48f3-a482-824b1a4ff6f6\" class=\"colab-df-container\">\n",
              "    <div>\n",
              "<style scoped>\n",
              "    .dataframe tbody tr th:only-of-type {\n",
              "        vertical-align: middle;\n",
              "    }\n",
              "\n",
              "    .dataframe tbody tr th {\n",
              "        vertical-align: top;\n",
              "    }\n",
              "\n",
              "    .dataframe thead th {\n",
              "        text-align: right;\n",
              "    }\n",
              "</style>\n",
              "<table border=\"1\" class=\"dataframe\">\n",
              "  <thead>\n",
              "    <tr style=\"text-align: right;\">\n",
              "      <th></th>\n",
              "      <th>item_name</th>\n",
              "      <th>bh_name</th>\n",
              "      <th>brand</th>\n",
              "      <th>size</th>\n",
              "      <th>quantity</th>\n",
              "      <th>price</th>\n",
              "      <th>store_type</th>\n",
              "      <th>city_radius</th>\n",
              "    </tr>\n",
              "  </thead>\n",
              "  <tbody>\n",
              "    <tr>\n",
              "      <th>0</th>\n",
              "      <td>Men's haircut, barber shop</td>\n",
              "      <td>Hairdressing salons and personal grooming esta...</td>\n",
              "      <td>NaN</td>\n",
              "      <td>1.0</td>\n",
              "      <td>1</td>\n",
              "      <td>50.00</td>\n",
              "      <td>private_service_provider</td>\n",
              "      <td>50</td>\n",
              "    </tr>\n",
              "    <tr>\n",
              "      <th>1</th>\n",
              "      <td>Sardines, tinned, with skin, in vegetable oil,...</td>\n",
              "      <td>Preserved or processed fish and seafood</td>\n",
              "      <td>GV</td>\n",
              "      <td>160.0</td>\n",
              "      <td>1</td>\n",
              "      <td>29.30</td>\n",
              "      <td>small_medium_shop</td>\n",
              "      <td>20</td>\n",
              "    </tr>\n",
              "    <tr>\n",
              "      <th>2</th>\n",
              "      <td>Broken rice, 25%, BNR</td>\n",
              "      <td>Rice</td>\n",
              "      <td>jumbo</td>\n",
              "      <td>1.0</td>\n",
              "      <td>1</td>\n",
              "      <td>12.49</td>\n",
              "      <td>NaN</td>\n",
              "      <td>50</td>\n",
              "    </tr>\n",
              "    <tr>\n",
              "      <th>3</th>\n",
              "      <td>Men's shirt, WKB-M</td>\n",
              "      <td>Garments</td>\n",
              "      <td>george</td>\n",
              "      <td>1.0</td>\n",
              "      <td>1</td>\n",
              "      <td>349.00</td>\n",
              "      <td>small_medium_shop</td>\n",
              "      <td>20</td>\n",
              "    </tr>\n",
              "    <tr>\n",
              "      <th>4</th>\n",
              "      <td>Vacuum cleaner, WKB-M</td>\n",
              "      <td>Major household appliances whether electric or...</td>\n",
              "      <td>philips</td>\n",
              "      <td>1.0</td>\n",
              "      <td>1</td>\n",
              "      <td>1799.00</td>\n",
              "      <td>small_medium_shop</td>\n",
              "      <td>50</td>\n",
              "    </tr>\n",
              "  </tbody>\n",
              "</table>\n",
              "</div>\n",
              "    <div class=\"colab-df-buttons\">\n",
              "\n",
              "  <div class=\"colab-df-container\">\n",
              "    <button class=\"colab-df-convert\" onclick=\"convertToInteractive('df-076c9200-e963-48f3-a482-824b1a4ff6f6')\"\n",
              "            title=\"Convert this dataframe to an interactive table.\"\n",
              "            style=\"display:none;\">\n",
              "\n",
              "  <svg xmlns=\"http://www.w3.org/2000/svg\" height=\"24px\" viewBox=\"0 -960 960 960\">\n",
              "    <path d=\"M120-120v-720h720v720H120Zm60-500h600v-160H180v160Zm220 220h160v-160H400v160Zm0 220h160v-160H400v160ZM180-400h160v-160H180v160Zm440 0h160v-160H620v160ZM180-180h160v-160H180v160Zm440 0h160v-160H620v160Z\"/>\n",
              "  </svg>\n",
              "    </button>\n",
              "\n",
              "  <style>\n",
              "    .colab-df-container {\n",
              "      display:flex;\n",
              "      gap: 12px;\n",
              "    }\n",
              "\n",
              "    .colab-df-convert {\n",
              "      background-color: #E8F0FE;\n",
              "      border: none;\n",
              "      border-radius: 50%;\n",
              "      cursor: pointer;\n",
              "      display: none;\n",
              "      fill: #1967D2;\n",
              "      height: 32px;\n",
              "      padding: 0 0 0 0;\n",
              "      width: 32px;\n",
              "    }\n",
              "\n",
              "    .colab-df-convert:hover {\n",
              "      background-color: #E2EBFA;\n",
              "      box-shadow: 0px 1px 2px rgba(60, 64, 67, 0.3), 0px 1px 3px 1px rgba(60, 64, 67, 0.15);\n",
              "      fill: #174EA6;\n",
              "    }\n",
              "\n",
              "    .colab-df-buttons div {\n",
              "      margin-bottom: 4px;\n",
              "    }\n",
              "\n",
              "    [theme=dark] .colab-df-convert {\n",
              "      background-color: #3B4455;\n",
              "      fill: #D2E3FC;\n",
              "    }\n",
              "\n",
              "    [theme=dark] .colab-df-convert:hover {\n",
              "      background-color: #434B5C;\n",
              "      box-shadow: 0px 1px 3px 1px rgba(0, 0, 0, 0.15);\n",
              "      filter: drop-shadow(0px 1px 2px rgba(0, 0, 0, 0.3));\n",
              "      fill: #FFFFFF;\n",
              "    }\n",
              "  </style>\n",
              "\n",
              "    <script>\n",
              "      const buttonEl =\n",
              "        document.querySelector('#df-076c9200-e963-48f3-a482-824b1a4ff6f6 button.colab-df-convert');\n",
              "      buttonEl.style.display =\n",
              "        google.colab.kernel.accessAllowed ? 'block' : 'none';\n",
              "\n",
              "      async function convertToInteractive(key) {\n",
              "        const element = document.querySelector('#df-076c9200-e963-48f3-a482-824b1a4ff6f6');\n",
              "        const dataTable =\n",
              "          await google.colab.kernel.invokeFunction('convertToInteractive',\n",
              "                                                    [key], {});\n",
              "        if (!dataTable) return;\n",
              "\n",
              "        const docLinkHtml = 'Like what you see? Visit the ' +\n",
              "          '<a target=\"_blank\" href=https://colab.research.google.com/notebooks/data_table.ipynb>data table notebook</a>'\n",
              "          + ' to learn more about interactive tables.';\n",
              "        element.innerHTML = '';\n",
              "        dataTable['output_type'] = 'display_data';\n",
              "        await google.colab.output.renderOutput(dataTable, element);\n",
              "        const docLink = document.createElement('div');\n",
              "        docLink.innerHTML = docLinkHtml;\n",
              "        element.appendChild(docLink);\n",
              "      }\n",
              "    </script>\n",
              "  </div>\n",
              "\n",
              "\n",
              "<div id=\"df-c46455bc-39de-44d6-b259-0f701b368b6a\">\n",
              "  <button class=\"colab-df-quickchart\" onclick=\"quickchart('df-c46455bc-39de-44d6-b259-0f701b368b6a')\"\n",
              "            title=\"Suggest charts.\"\n",
              "            style=\"display:none;\">\n",
              "\n",
              "<svg xmlns=\"http://www.w3.org/2000/svg\" height=\"24px\"viewBox=\"0 0 24 24\"\n",
              "     width=\"24px\">\n",
              "    <g>\n",
              "        <path d=\"M19 3H5c-1.1 0-2 .9-2 2v14c0 1.1.9 2 2 2h14c1.1 0 2-.9 2-2V5c0-1.1-.9-2-2-2zM9 17H7v-7h2v7zm4 0h-2V7h2v10zm4 0h-2v-4h2v4z\"/>\n",
              "    </g>\n",
              "</svg>\n",
              "  </button>\n",
              "\n",
              "<style>\n",
              "  .colab-df-quickchart {\n",
              "      --bg-color: #E8F0FE;\n",
              "      --fill-color: #1967D2;\n",
              "      --hover-bg-color: #E2EBFA;\n",
              "      --hover-fill-color: #174EA6;\n",
              "      --disabled-fill-color: #AAA;\n",
              "      --disabled-bg-color: #DDD;\n",
              "  }\n",
              "\n",
              "  [theme=dark] .colab-df-quickchart {\n",
              "      --bg-color: #3B4455;\n",
              "      --fill-color: #D2E3FC;\n",
              "      --hover-bg-color: #434B5C;\n",
              "      --hover-fill-color: #FFFFFF;\n",
              "      --disabled-bg-color: #3B4455;\n",
              "      --disabled-fill-color: #666;\n",
              "  }\n",
              "\n",
              "  .colab-df-quickchart {\n",
              "    background-color: var(--bg-color);\n",
              "    border: none;\n",
              "    border-radius: 50%;\n",
              "    cursor: pointer;\n",
              "    display: none;\n",
              "    fill: var(--fill-color);\n",
              "    height: 32px;\n",
              "    padding: 0;\n",
              "    width: 32px;\n",
              "  }\n",
              "\n",
              "  .colab-df-quickchart:hover {\n",
              "    background-color: var(--hover-bg-color);\n",
              "    box-shadow: 0 1px 2px rgba(60, 64, 67, 0.3), 0 1px 3px 1px rgba(60, 64, 67, 0.15);\n",
              "    fill: var(--button-hover-fill-color);\n",
              "  }\n",
              "\n",
              "  .colab-df-quickchart-complete:disabled,\n",
              "  .colab-df-quickchart-complete:disabled:hover {\n",
              "    background-color: var(--disabled-bg-color);\n",
              "    fill: var(--disabled-fill-color);\n",
              "    box-shadow: none;\n",
              "  }\n",
              "\n",
              "  .colab-df-spinner {\n",
              "    border: 2px solid var(--fill-color);\n",
              "    border-color: transparent;\n",
              "    border-bottom-color: var(--fill-color);\n",
              "    animation:\n",
              "      spin 1s steps(1) infinite;\n",
              "  }\n",
              "\n",
              "  @keyframes spin {\n",
              "    0% {\n",
              "      border-color: transparent;\n",
              "      border-bottom-color: var(--fill-color);\n",
              "      border-left-color: var(--fill-color);\n",
              "    }\n",
              "    20% {\n",
              "      border-color: transparent;\n",
              "      border-left-color: var(--fill-color);\n",
              "      border-top-color: var(--fill-color);\n",
              "    }\n",
              "    30% {\n",
              "      border-color: transparent;\n",
              "      border-left-color: var(--fill-color);\n",
              "      border-top-color: var(--fill-color);\n",
              "      border-right-color: var(--fill-color);\n",
              "    }\n",
              "    40% {\n",
              "      border-color: transparent;\n",
              "      border-right-color: var(--fill-color);\n",
              "      border-top-color: var(--fill-color);\n",
              "    }\n",
              "    60% {\n",
              "      border-color: transparent;\n",
              "      border-right-color: var(--fill-color);\n",
              "    }\n",
              "    80% {\n",
              "      border-color: transparent;\n",
              "      border-right-color: var(--fill-color);\n",
              "      border-bottom-color: var(--fill-color);\n",
              "    }\n",
              "    90% {\n",
              "      border-color: transparent;\n",
              "      border-bottom-color: var(--fill-color);\n",
              "    }\n",
              "  }\n",
              "</style>\n",
              "\n",
              "  <script>\n",
              "    async function quickchart(key) {\n",
              "      const quickchartButtonEl =\n",
              "        document.querySelector('#' + key + ' button');\n",
              "      quickchartButtonEl.disabled = true;  // To prevent multiple clicks.\n",
              "      quickchartButtonEl.classList.add('colab-df-spinner');\n",
              "      try {\n",
              "        const charts = await google.colab.kernel.invokeFunction(\n",
              "            'suggestCharts', [key], {});\n",
              "      } catch (error) {\n",
              "        console.error('Error during call to suggestCharts:', error);\n",
              "      }\n",
              "      quickchartButtonEl.classList.remove('colab-df-spinner');\n",
              "      quickchartButtonEl.classList.add('colab-df-quickchart-complete');\n",
              "    }\n",
              "    (() => {\n",
              "      let quickchartButtonEl =\n",
              "        document.querySelector('#df-c46455bc-39de-44d6-b259-0f701b368b6a button');\n",
              "      quickchartButtonEl.style.display =\n",
              "        google.colab.kernel.accessAllowed ? 'block' : 'none';\n",
              "    })();\n",
              "  </script>\n",
              "</div>\n",
              "    </div>\n",
              "  </div>\n"
            ],
            "text/plain": [
              "                                           item_name  \\\n",
              "0                         Men's haircut, barber shop   \n",
              "1  Sardines, tinned, with skin, in vegetable oil,...   \n",
              "2                              Broken rice, 25%, BNR   \n",
              "3                                 Men's shirt, WKB-M   \n",
              "4                              Vacuum cleaner, WKB-M   \n",
              "\n",
              "                                             bh_name    brand   size  \\\n",
              "0  Hairdressing salons and personal grooming esta...      NaN    1.0   \n",
              "1            Preserved or processed fish and seafood       GV  160.0   \n",
              "2                                               Rice    jumbo    1.0   \n",
              "3                                           Garments   george    1.0   \n",
              "4  Major household appliances whether electric or...  philips    1.0   \n",
              "\n",
              "   quantity    price                store_type  city_radius  \n",
              "0         1    50.00  private_service_provider           50  \n",
              "1         1    29.30         small_medium_shop           20  \n",
              "2         1    12.49                       NaN           50  \n",
              "3         1   349.00         small_medium_shop           20  \n",
              "4         1  1799.00         small_medium_shop           50  "
            ]
          },
          "execution_count": 15,
          "metadata": {},
          "output_type": "execute_result"
        }
      ],
      "source": [
        "# sample rows\n",
        "data.head(5)"
      ]
    },
    {
      "cell_type": "markdown",
      "metadata": {
        "id": "nPjXp0TGSZv8"
      },
      "source": [
        "# Getting categorical distribution per group.\n",
        "\n",
        "To understand it better, we will go through few examples on how you can group the data and apply user defined functions to get distributions."
      ]
    },
    {
      "cell_type": "markdown",
      "metadata": {
        "id": "E1bPqdFySZv8"
      },
      "source": [
        "## Per category, what are the store types"
      ]
    },
    {
      "cell_type": "code",
      "execution_count": null,
      "metadata": {
        "id": "F025ms4cSZv-"
      },
      "outputs": [],
      "source": [
        "# Amount added in each hour\n",
        "def get_distribution(column):\n",
        "  column = column.fillna(\"None\")\n",
        "  return column.value_counts(dropna=False).to_dict()\n",
        "\n",
        "def get_distribution_perc(column):\n",
        "  column = column.fillna(\"None\")\n",
        "  return ((column.value_counts(dropna=False, normalize=True)*100).round(2)).to_dict()"
      ]
    },
    {
      "cell_type": "code",
      "execution_count": null,
      "metadata": {
        "colab": {
          "base_uri": "https://localhost:8080/",
          "height": 423
        },
        "id": "frjzHhkzSZwA",
        "outputId": "0eaa1e7d-db6f-4e74-a511-c676867f303b"
      },
      "outputs": [
        {
          "data": {
            "text/html": [
              "\n",
              "  <div id=\"df-ccadc382-0c0b-49bc-b9cb-46aa437cfe7b\" class=\"colab-df-container\">\n",
              "    <div>\n",
              "<style scoped>\n",
              "    .dataframe tbody tr th:only-of-type {\n",
              "        vertical-align: middle;\n",
              "    }\n",
              "\n",
              "    .dataframe tbody tr th {\n",
              "        vertical-align: top;\n",
              "    }\n",
              "\n",
              "    .dataframe thead th {\n",
              "        text-align: right;\n",
              "    }\n",
              "</style>\n",
              "<table border=\"1\" class=\"dataframe\">\n",
              "  <thead>\n",
              "    <tr style=\"text-align: right;\">\n",
              "      <th></th>\n",
              "      <th>brand</th>\n",
              "      <th>store_distribution</th>\n",
              "      <th>count_records</th>\n",
              "    </tr>\n",
              "  </thead>\n",
              "  <tbody>\n",
              "    <tr>\n",
              "      <th>2728</th>\n",
              "      <td>tex</td>\n",
              "      <td>{'small_medium_shop': 80.73, 'None': 15.1, 'specialized_shop': 4.17}</td>\n",
              "      <td>576</td>\n",
              "    </tr>\n",
              "    <tr>\n",
              "      <th>1059</th>\n",
              "      <td>carrefour</td>\n",
              "      <td>{'small_medium_shop': 52.42, 'None': 34.3, 'specialized_shop': 13.29}</td>\n",
              "      <td>414</td>\n",
              "    </tr>\n",
              "    <tr>\n",
              "      <th>2153</th>\n",
              "      <td>none</td>\n",
              "      <td>{'small_medium_shop': 63.52, 'None': 28.35, 'specialized_shop': 5.25, 'market': 2.36, 'bulk_discount_shop': 0.52}</td>\n",
              "      <td>381</td>\n",
              "    </tr>\n",
              "    <tr>\n",
              "      <th>1196</th>\n",
              "      <td>curitas</td>\n",
              "      <td>{'small_medium_shop': 72.13, 'None': 17.76, 'specialized_shop': 8.47, 'market': 1.64}</td>\n",
              "      <td>366</td>\n",
              "    </tr>\n",
              "    <tr>\n",
              "      <th>2308</th>\n",
              "      <td>philips</td>\n",
              "      <td>{'small_medium_shop': 48.29, 'None': 34.19, 'specialized_shop': 15.81, 'market': 1.71}</td>\n",
              "      <td>234</td>\n",
              "    </tr>\n",
              "    <tr>\n",
              "      <th>...</th>\n",
              "      <td>...</td>\n",
              "      <td>...</td>\n",
              "      <td>...</td>\n",
              "    </tr>\n",
              "    <tr>\n",
              "      <th>1285</th>\n",
              "      <td>donado</td>\n",
              "      <td>{'None': 100.0}</td>\n",
              "      <td>1</td>\n",
              "    </tr>\n",
              "    <tr>\n",
              "      <th>1284</th>\n",
              "      <td>don valentin</td>\n",
              "      <td>{'small_medium_shop': 100.0}</td>\n",
              "      <td>1</td>\n",
              "    </tr>\n",
              "    <tr>\n",
              "      <th>1283</th>\n",
              "      <td>don valentin</td>\n",
              "      <td>{'small_medium_shop': 100.0}</td>\n",
              "      <td>1</td>\n",
              "    </tr>\n",
              "    <tr>\n",
              "      <th>1282</th>\n",
              "      <td>don satur</td>\n",
              "      <td>{'small_medium_shop': 100.0}</td>\n",
              "      <td>1</td>\n",
              "    </tr>\n",
              "    <tr>\n",
              "      <th>3040</th>\n",
              "      <td>élite</td>\n",
              "      <td>{'None': 100.0}</td>\n",
              "      <td>1</td>\n",
              "    </tr>\n",
              "  </tbody>\n",
              "</table>\n",
              "<p>3041 rows × 3 columns</p>\n",
              "</div>\n",
              "    <div class=\"colab-df-buttons\">\n",
              "\n",
              "  <div class=\"colab-df-container\">\n",
              "    <button class=\"colab-df-convert\" onclick=\"convertToInteractive('df-ccadc382-0c0b-49bc-b9cb-46aa437cfe7b')\"\n",
              "            title=\"Convert this dataframe to an interactive table.\"\n",
              "            style=\"display:none;\">\n",
              "\n",
              "  <svg xmlns=\"http://www.w3.org/2000/svg\" height=\"24px\" viewBox=\"0 -960 960 960\">\n",
              "    <path d=\"M120-120v-720h720v720H120Zm60-500h600v-160H180v160Zm220 220h160v-160H400v160Zm0 220h160v-160H400v160ZM180-400h160v-160H180v160Zm440 0h160v-160H620v160ZM180-180h160v-160H180v160Zm440 0h160v-160H620v160Z\"/>\n",
              "  </svg>\n",
              "    </button>\n",
              "\n",
              "  <style>\n",
              "    .colab-df-container {\n",
              "      display:flex;\n",
              "      gap: 12px;\n",
              "    }\n",
              "\n",
              "    .colab-df-convert {\n",
              "      background-color: #E8F0FE;\n",
              "      border: none;\n",
              "      border-radius: 50%;\n",
              "      cursor: pointer;\n",
              "      display: none;\n",
              "      fill: #1967D2;\n",
              "      height: 32px;\n",
              "      padding: 0 0 0 0;\n",
              "      width: 32px;\n",
              "    }\n",
              "\n",
              "    .colab-df-convert:hover {\n",
              "      background-color: #E2EBFA;\n",
              "      box-shadow: 0px 1px 2px rgba(60, 64, 67, 0.3), 0px 1px 3px 1px rgba(60, 64, 67, 0.15);\n",
              "      fill: #174EA6;\n",
              "    }\n",
              "\n",
              "    .colab-df-buttons div {\n",
              "      margin-bottom: 4px;\n",
              "    }\n",
              "\n",
              "    [theme=dark] .colab-df-convert {\n",
              "      background-color: #3B4455;\n",
              "      fill: #D2E3FC;\n",
              "    }\n",
              "\n",
              "    [theme=dark] .colab-df-convert:hover {\n",
              "      background-color: #434B5C;\n",
              "      box-shadow: 0px 1px 3px 1px rgba(0, 0, 0, 0.15);\n",
              "      filter: drop-shadow(0px 1px 2px rgba(0, 0, 0, 0.3));\n",
              "      fill: #FFFFFF;\n",
              "    }\n",
              "  </style>\n",
              "\n",
              "    <script>\n",
              "      const buttonEl =\n",
              "        document.querySelector('#df-ccadc382-0c0b-49bc-b9cb-46aa437cfe7b button.colab-df-convert');\n",
              "      buttonEl.style.display =\n",
              "        google.colab.kernel.accessAllowed ? 'block' : 'none';\n",
              "\n",
              "      async function convertToInteractive(key) {\n",
              "        const element = document.querySelector('#df-ccadc382-0c0b-49bc-b9cb-46aa437cfe7b');\n",
              "        const dataTable =\n",
              "          await google.colab.kernel.invokeFunction('convertToInteractive',\n",
              "                                                    [key], {});\n",
              "        if (!dataTable) return;\n",
              "\n",
              "        const docLinkHtml = 'Like what you see? Visit the ' +\n",
              "          '<a target=\"_blank\" href=https://colab.research.google.com/notebooks/data_table.ipynb>data table notebook</a>'\n",
              "          + ' to learn more about interactive tables.';\n",
              "        element.innerHTML = '';\n",
              "        dataTable['output_type'] = 'display_data';\n",
              "        await google.colab.output.renderOutput(dataTable, element);\n",
              "        const docLink = document.createElement('div');\n",
              "        docLink.innerHTML = docLinkHtml;\n",
              "        element.appendChild(docLink);\n",
              "      }\n",
              "    </script>\n",
              "  </div>\n",
              "\n",
              "\n",
              "<div id=\"df-e2c4ab35-582e-4159-95fe-508d5683a765\">\n",
              "  <button class=\"colab-df-quickchart\" onclick=\"quickchart('df-e2c4ab35-582e-4159-95fe-508d5683a765')\"\n",
              "            title=\"Suggest charts.\"\n",
              "            style=\"display:none;\">\n",
              "\n",
              "<svg xmlns=\"http://www.w3.org/2000/svg\" height=\"24px\"viewBox=\"0 0 24 24\"\n",
              "     width=\"24px\">\n",
              "    <g>\n",
              "        <path d=\"M19 3H5c-1.1 0-2 .9-2 2v14c0 1.1.9 2 2 2h14c1.1 0 2-.9 2-2V5c0-1.1-.9-2-2-2zM9 17H7v-7h2v7zm4 0h-2V7h2v10zm4 0h-2v-4h2v4z\"/>\n",
              "    </g>\n",
              "</svg>\n",
              "  </button>\n",
              "\n",
              "<style>\n",
              "  .colab-df-quickchart {\n",
              "      --bg-color: #E8F0FE;\n",
              "      --fill-color: #1967D2;\n",
              "      --hover-bg-color: #E2EBFA;\n",
              "      --hover-fill-color: #174EA6;\n",
              "      --disabled-fill-color: #AAA;\n",
              "      --disabled-bg-color: #DDD;\n",
              "  }\n",
              "\n",
              "  [theme=dark] .colab-df-quickchart {\n",
              "      --bg-color: #3B4455;\n",
              "      --fill-color: #D2E3FC;\n",
              "      --hover-bg-color: #434B5C;\n",
              "      --hover-fill-color: #FFFFFF;\n",
              "      --disabled-bg-color: #3B4455;\n",
              "      --disabled-fill-color: #666;\n",
              "  }\n",
              "\n",
              "  .colab-df-quickchart {\n",
              "    background-color: var(--bg-color);\n",
              "    border: none;\n",
              "    border-radius: 50%;\n",
              "    cursor: pointer;\n",
              "    display: none;\n",
              "    fill: var(--fill-color);\n",
              "    height: 32px;\n",
              "    padding: 0;\n",
              "    width: 32px;\n",
              "  }\n",
              "\n",
              "  .colab-df-quickchart:hover {\n",
              "    background-color: var(--hover-bg-color);\n",
              "    box-shadow: 0 1px 2px rgba(60, 64, 67, 0.3), 0 1px 3px 1px rgba(60, 64, 67, 0.15);\n",
              "    fill: var(--button-hover-fill-color);\n",
              "  }\n",
              "\n",
              "  .colab-df-quickchart-complete:disabled,\n",
              "  .colab-df-quickchart-complete:disabled:hover {\n",
              "    background-color: var(--disabled-bg-color);\n",
              "    fill: var(--disabled-fill-color);\n",
              "    box-shadow: none;\n",
              "  }\n",
              "\n",
              "  .colab-df-spinner {\n",
              "    border: 2px solid var(--fill-color);\n",
              "    border-color: transparent;\n",
              "    border-bottom-color: var(--fill-color);\n",
              "    animation:\n",
              "      spin 1s steps(1) infinite;\n",
              "  }\n",
              "\n",
              "  @keyframes spin {\n",
              "    0% {\n",
              "      border-color: transparent;\n",
              "      border-bottom-color: var(--fill-color);\n",
              "      border-left-color: var(--fill-color);\n",
              "    }\n",
              "    20% {\n",
              "      border-color: transparent;\n",
              "      border-left-color: var(--fill-color);\n",
              "      border-top-color: var(--fill-color);\n",
              "    }\n",
              "    30% {\n",
              "      border-color: transparent;\n",
              "      border-left-color: var(--fill-color);\n",
              "      border-top-color: var(--fill-color);\n",
              "      border-right-color: var(--fill-color);\n",
              "    }\n",
              "    40% {\n",
              "      border-color: transparent;\n",
              "      border-right-color: var(--fill-color);\n",
              "      border-top-color: var(--fill-color);\n",
              "    }\n",
              "    60% {\n",
              "      border-color: transparent;\n",
              "      border-right-color: var(--fill-color);\n",
              "    }\n",
              "    80% {\n",
              "      border-color: transparent;\n",
              "      border-right-color: var(--fill-color);\n",
              "      border-bottom-color: var(--fill-color);\n",
              "    }\n",
              "    90% {\n",
              "      border-color: transparent;\n",
              "      border-bottom-color: var(--fill-color);\n",
              "    }\n",
              "  }\n",
              "</style>\n",
              "\n",
              "  <script>\n",
              "    async function quickchart(key) {\n",
              "      const quickchartButtonEl =\n",
              "        document.querySelector('#' + key + ' button');\n",
              "      quickchartButtonEl.disabled = true;  // To prevent multiple clicks.\n",
              "      quickchartButtonEl.classList.add('colab-df-spinner');\n",
              "      try {\n",
              "        const charts = await google.colab.kernel.invokeFunction(\n",
              "            'suggestCharts', [key], {});\n",
              "      } catch (error) {\n",
              "        console.error('Error during call to suggestCharts:', error);\n",
              "      }\n",
              "      quickchartButtonEl.classList.remove('colab-df-spinner');\n",
              "      quickchartButtonEl.classList.add('colab-df-quickchart-complete');\n",
              "    }\n",
              "    (() => {\n",
              "      let quickchartButtonEl =\n",
              "        document.querySelector('#df-e2c4ab35-582e-4159-95fe-508d5683a765 button');\n",
              "      quickchartButtonEl.style.display =\n",
              "        google.colab.kernel.accessAllowed ? 'block' : 'none';\n",
              "    })();\n",
              "  </script>\n",
              "</div>\n",
              "    </div>\n",
              "  </div>\n"
            ],
            "text/plain": [
              "              brand  \\\n",
              "2728            tex   \n",
              "1059      carrefour   \n",
              "2153           none   \n",
              "1196        curitas   \n",
              "2308        philips   \n",
              "...             ...   \n",
              "1285         donado   \n",
              "1284  don valentin    \n",
              "1283   don valentin   \n",
              "1282     don satur    \n",
              "3040         élite    \n",
              "\n",
              "                                                                                                     store_distribution  \\\n",
              "2728                                               {'small_medium_shop': 80.73, 'None': 15.1, 'specialized_shop': 4.17}   \n",
              "1059                                              {'small_medium_shop': 52.42, 'None': 34.3, 'specialized_shop': 13.29}   \n",
              "2153  {'small_medium_shop': 63.52, 'None': 28.35, 'specialized_shop': 5.25, 'market': 2.36, 'bulk_discount_shop': 0.52}   \n",
              "1196                              {'small_medium_shop': 72.13, 'None': 17.76, 'specialized_shop': 8.47, 'market': 1.64}   \n",
              "2308                             {'small_medium_shop': 48.29, 'None': 34.19, 'specialized_shop': 15.81, 'market': 1.71}   \n",
              "...                                                                                                                 ...   \n",
              "1285                                                                                                    {'None': 100.0}   \n",
              "1284                                                                                       {'small_medium_shop': 100.0}   \n",
              "1283                                                                                       {'small_medium_shop': 100.0}   \n",
              "1282                                                                                       {'small_medium_shop': 100.0}   \n",
              "3040                                                                                                    {'None': 100.0}   \n",
              "\n",
              "      count_records  \n",
              "2728            576  \n",
              "1059            414  \n",
              "2153            381  \n",
              "1196            366  \n",
              "2308            234  \n",
              "...             ...  \n",
              "1285              1  \n",
              "1284              1  \n",
              "1283              1  \n",
              "1282              1  \n",
              "3040              1  \n",
              "\n",
              "[3041 rows x 3 columns]"
            ]
          },
          "execution_count": 42,
          "metadata": {},
          "output_type": "execute_result"
        }
      ],
      "source": [
        "data.groupby('brand').agg(store_distribution = ('store_type',get_distribution_perc),\n",
        "                          count_records = ('item_name','count')).reset_index().sort_values('count_records', ascending=False)"
      ]
    },
    {
      "cell_type": "markdown",
      "metadata": {
        "id": "WxguywUXSZwC"
      },
      "source": [
        "## Aggregating data based on Week"
      ]
    },
    {
      "cell_type": "code",
      "execution_count": null,
      "metadata": {
        "colab": {
          "base_uri": "https://localhost:8080/",
          "height": 136
        },
        "id": "pbHA_OleSZwD",
        "outputId": "be9ecd82-8671-463c-c158-84d22989a748"
      },
      "outputs": [
        {
          "data": {
            "text/plain": [
              "created_at\n",
              "2015-12-20     43056.38\n",
              "2015-12-27     67338.51\n",
              "2016-01-03     44434.59\n",
              "2016-01-10     18222.36\n",
              "2016-01-17    190838.54\n",
              "Freq: W-SUN, Name: price, dtype: float64"
            ]
          },
          "execution_count": 11,
          "metadata": {
            "tags": []
          },
          "output_type": "execute_result"
        }
      ],
      "source": [
        "# total amount added each week\n",
        "data.resample('W', on='created_at').price.sum().head(5)"
      ]
    },
    {
      "cell_type": "code",
      "execution_count": null,
      "metadata": {
        "colab": {
          "base_uri": "https://localhost:8080/",
          "height": 136
        },
        "id": "EishUI96SZwF",
        "outputId": "42c7f837-a2e9-42dc-89ad-43a07eab4a6e"
      },
      "outputs": [
        {
          "data": {
            "text/plain": [
              "created_at\n",
              "2015-12-14     5532.86\n",
              "2015-12-21    38507.62\n",
              "2015-12-28    66863.29\n",
              "2016-01-04    53924.10\n",
              "2016-01-11    12608.69\n",
              "Freq: W-MON, Name: price, dtype: float64"
            ]
          },
          "execution_count": 12,
          "metadata": {
            "tags": []
          },
          "output_type": "execute_result"
        }
      ],
      "source": [
        "# By default, week starts with Sunday. Let's change it to start with Monday\n",
        "data.resample('W-MON', on='created_at').price.sum().head(5)"
      ]
    },
    {
      "cell_type": "markdown",
      "metadata": {
        "id": "hZNnJdvbSZwH"
      },
      "source": [
        "## Aggregating Data Based on Month"
      ]
    },
    {
      "cell_type": "code",
      "execution_count": null,
      "metadata": {
        "colab": {
          "base_uri": "https://localhost:8080/",
          "height": 204
        },
        "id": "dCVXzRr6SZwH",
        "outputId": "4d1155ec-8935-42ec-c6cf-fe14ea496cf3"
      },
      "outputs": [
        {
          "data": {
            "text/plain": [
              "created_at\n",
              "2015-12-31    1.538769e+05\n",
              "2016-01-31    4.297143e+05\n",
              "2016-02-29    9.352684e+05\n",
              "2016-03-31    7.425185e+06\n",
              "2016-04-30    1.384351e+07\n",
              "2016-05-31    1.253785e+07\n",
              "2016-06-30    7.264586e+06\n",
              "2016-07-31    6.739416e+06\n",
              "2016-08-31    2.721504e+06\n",
              "Freq: M, Name: price, dtype: float64"
            ]
          },
          "execution_count": 13,
          "metadata": {
            "tags": []
          },
          "output_type": "execute_result"
        }
      ],
      "source": [
        "data.resample('M', on='created_at').price.sum()"
      ]
    },
    {
      "cell_type": "code",
      "execution_count": null,
      "metadata": {
        "colab": {
          "base_uri": "https://localhost:8080/",
          "height": 204
        },
        "id": "tzmiyUB2SZwJ",
        "outputId": "3317abdd-15d6-46c0-8cd9-08b028db2f63"
      },
      "outputs": [
        {
          "data": {
            "text/plain": [
              "created_at\n",
              "2015-12-01    1.538769e+05\n",
              "2016-01-01    4.297143e+05\n",
              "2016-02-01    9.352684e+05\n",
              "2016-03-01    7.425185e+06\n",
              "2016-04-01    1.384351e+07\n",
              "2016-05-01    1.253785e+07\n",
              "2016-06-01    7.264586e+06\n",
              "2016-07-01    6.739416e+06\n",
              "2016-08-01    2.721504e+06\n",
              "Freq: MS, Name: price, dtype: float64"
            ]
          },
          "execution_count": 14,
          "metadata": {
            "tags": []
          },
          "output_type": "execute_result"
        }
      ],
      "source": [
        "# by default month labels are assigned to the last day of month, lets change it\n",
        "# to start from Month starting using 'MS' frequency\n",
        "data.resample('MS', on='created_at').price.sum()"
      ]
    },
    {
      "cell_type": "markdown",
      "metadata": {
        "id": "ALlKum51SZwL"
      },
      "source": [
        "## Aggregations on different fields.\n",
        "\n",
        "1. Unique items were added in each hour.\n",
        "2. The total quantity was added in each hour.\n",
        "3. The total amount was added in each hour."
      ]
    },
    {
      "cell_type": "code",
      "execution_count": null,
      "metadata": {
        "colab": {
          "base_uri": "https://localhost:8080/",
          "height": 235
        },
        "id": "TTzNof9ySZwM",
        "outputId": "0562dee7-d901-49a4-eed9-311bfdcfcfa3"
      },
      "outputs": [
        {
          "data": {
            "text/html": [
              "<div>\n",
              "<style scoped>\n",
              "    .dataframe tbody tr th:only-of-type {\n",
              "        vertical-align: middle;\n",
              "    }\n",
              "\n",
              "    .dataframe tbody tr th {\n",
              "        vertical-align: top;\n",
              "    }\n",
              "\n",
              "    .dataframe thead th {\n",
              "        text-align: right;\n",
              "    }\n",
              "</style>\n",
              "<table border=\"1\" class=\"dataframe\">\n",
              "  <thead>\n",
              "    <tr style=\"text-align: right;\">\n",
              "      <th></th>\n",
              "      <th>price</th>\n",
              "      <th>quantity</th>\n",
              "      <th>item_code</th>\n",
              "    </tr>\n",
              "    <tr>\n",
              "      <th>created_at</th>\n",
              "      <th></th>\n",
              "      <th></th>\n",
              "      <th></th>\n",
              "    </tr>\n",
              "  </thead>\n",
              "  <tbody>\n",
              "    <tr>\n",
              "      <th>2015-12-14 18:00:00</th>\n",
              "      <td>5449.90</td>\n",
              "      <td>3</td>\n",
              "      <td>3</td>\n",
              "    </tr>\n",
              "    <tr>\n",
              "      <th>2015-12-14 19:00:00</th>\n",
              "      <td>15.98</td>\n",
              "      <td>2</td>\n",
              "      <td>2</td>\n",
              "    </tr>\n",
              "    <tr>\n",
              "      <th>2015-12-14 20:00:00</th>\n",
              "      <td>66.98</td>\n",
              "      <td>7</td>\n",
              "      <td>4</td>\n",
              "    </tr>\n",
              "    <tr>\n",
              "      <th>2015-12-14 21:00:00</th>\n",
              "      <td>0.00</td>\n",
              "      <td>0</td>\n",
              "      <td>0</td>\n",
              "    </tr>\n",
              "    <tr>\n",
              "      <th>2015-12-14 22:00:00</th>\n",
              "      <td>0.00</td>\n",
              "      <td>0</td>\n",
              "      <td>0</td>\n",
              "    </tr>\n",
              "  </tbody>\n",
              "</table>\n",
              "</div>"
            ],
            "text/plain": [
              "                       price  quantity  item_code\n",
              "created_at                                       \n",
              "2015-12-14 18:00:00  5449.90         3          3\n",
              "2015-12-14 19:00:00    15.98         2          2\n",
              "2015-12-14 20:00:00    66.98         7          4\n",
              "2015-12-14 21:00:00     0.00         0          0\n",
              "2015-12-14 22:00:00     0.00         0          0"
            ]
          },
          "execution_count": 15,
          "metadata": {
            "tags": []
          },
          "output_type": "execute_result"
        }
      ],
      "source": [
        "data.resample('H', on='created_at').agg({'price':'sum', 'quantity':'sum','item_code':'nunique'}).head(5)"
      ]
    },
    {
      "cell_type": "markdown",
      "metadata": {
        "id": "rqWM1mVHSZwO"
      },
      "source": [
        "# Grouping data based on different Time intervals\n",
        "\n",
        "Here we will group on multiple fields along with time interval"
      ]
    },
    {
      "cell_type": "markdown",
      "metadata": {
        "id": "W5a233vcSZwO"
      },
      "source": [
        "## Amount added for each store type in each week."
      ]
    },
    {
      "cell_type": "code",
      "execution_count": null,
      "metadata": {
        "colab": {
          "base_uri": "https://localhost:8080/",
          "height": 306
        },
        "id": "X1J-6dJKSZwO",
        "outputId": "38a42d8a-5ffa-4823-e6f9-9a7d6de9cf31"
      },
      "outputs": [
        {
          "data": {
            "text/plain": [
              "created_at  store_type                \n",
              "2015-12-20  other                          34300.00\n",
              "            public_semi_public_service       833.90\n",
              "            small_medium_shop               1206.04\n",
              "2015-12-27  small_medium_shop                923.09\n",
              "            specialized_shop               65164.00\n",
              "2016-01-03  small_medium_shop                355.10\n",
              "            specialized_shop               41922.00\n",
              "2016-01-10  other                           8300.00\n",
              "            small_medium_shop                412.55\n",
              "            specialized_shop                3979.00\n",
              "2016-01-17  market                           170.78\n",
              "            other                         144341.00\n",
              "            private_service_provider         220.00\n",
              "            public_semi_public_service       271.84\n",
              "            small_medium_shop              20908.29\n",
              "Name: price, dtype: float64"
            ]
          },
          "execution_count": 16,
          "metadata": {
            "tags": []
          },
          "output_type": "execute_result"
        }
      ],
      "source": [
        "data.groupby([pd.Grouper(key='created_at', freq='W'), 'store_type']).price.sum().head(15)"
      ]
    },
    {
      "cell_type": "markdown",
      "metadata": {
        "id": "YYE2k2tqSZwQ"
      },
      "source": [
        "## Amount added for each store type in each month."
      ]
    },
    {
      "cell_type": "code",
      "execution_count": null,
      "metadata": {
        "colab": {
          "base_uri": "https://localhost:8080/",
          "height": 306
        },
        "id": "wtPqwZoDSZwR",
        "outputId": "f710b83d-c85e-4c17-ffd3-1e07fac9a585",
        "scrolled": true
      },
      "outputs": [
        {
          "data": {
            "text/plain": [
              "created_at  store_type                \n",
              "2015-12-31  other                          34300.00\n",
              "            public_semi_public_service       833.90\n",
              "            small_medium_shop               2484.23\n",
              "            specialized_shop              107086.00\n",
              "2016-01-31  market                           473.75\n",
              "            other                         314741.00\n",
              "            private_service_provider         325.00\n",
              "            public_semi_public_service       276.79\n",
              "            small_medium_shop              31042.79\n",
              "            specialized_shop               29648.44\n",
              "2016-02-29  market                          1974.04\n",
              "            other                         527950.00\n",
              "            private_service_provider        1620.00\n",
              "            public_semi_public_service      1028.52\n",
              "            small_medium_shop             224653.83\n",
              "Name: price, dtype: float64"
            ]
          },
          "execution_count": 17,
          "metadata": {
            "tags": []
          },
          "output_type": "execute_result"
        }
      ],
      "source": [
        "data.groupby([pd.Grouper(key='created_at', freq='M'), 'store_type']).price.sum().head(15)"
      ]
    },
    {
      "cell_type": "markdown",
      "metadata": {
        "id": "WSMjYRVFSZwT"
      },
      "source": [
        "## Total Amount added based on item_name in each month."
      ]
    },
    {
      "cell_type": "code",
      "execution_count": null,
      "metadata": {
        "colab": {
          "base_uri": "https://localhost:8080/",
          "height": 238
        },
        "id": "deEawO61SZwT",
        "outputId": "97f37192-44f6-4fbd-9a25-b751650c3878",
        "scrolled": false
      },
      "outputs": [
        {
          "data": {
            "text/plain": [
              "created_at  item_name                                   \n",
              "2015-12-31  Bar soap, solid, SB                                33.17\n",
              "            Beer, domestic brand, single bottle, WKB           29.79\n",
              "            Black tea, BL                                      12.00\n",
              "            Black tea, in bags, WKB                            60.99\n",
              "            Bread, white, sliced, WKB                          85.45\n",
              "                                                              ...   \n",
              "2016-08-31  Wheat flour, not self-rising, BL                  150.38\n",
              "            White sugar, WKB                                  266.47\n",
              "            Women's haircut, basic hairdresser               7730.00\n",
              "            Wrist-watch, men's, CITIZEN Eco-Drive BM6060    52205.00\n",
              "            Yoghurt, plain, WKB                               150.96\n",
              "Name: price, Length: 1061, dtype: float64"
            ]
          },
          "execution_count": 18,
          "metadata": {
            "tags": []
          },
          "output_type": "execute_result"
        }
      ],
      "source": [
        "data.groupby([pd.Grouper(key='created_at', freq='M'), 'item_name']).price.sum()"
      ]
    },
    {
      "cell_type": "markdown",
      "metadata": {
        "id": "yLqWwtakSZwV"
      },
      "source": [
        "## Multiple Aggregation based on store_type in each month."
      ]
    },
    {
      "cell_type": "code",
      "execution_count": null,
      "metadata": {
        "colab": {
          "base_uri": "https://localhost:8080/",
          "height": 700
        },
        "id": "uWC4UyBfSZwW",
        "outputId": "f5c49046-69cd-48b3-c7a0-6bf6a752801b"
      },
      "outputs": [
        {
          "data": {
            "text/html": [
              "<div>\n",
              "<style scoped>\n",
              "    .dataframe tbody tr th:only-of-type {\n",
              "        vertical-align: middle;\n",
              "    }\n",
              "\n",
              "    .dataframe tbody tr th {\n",
              "        vertical-align: top;\n",
              "    }\n",
              "\n",
              "    .dataframe thead th {\n",
              "        text-align: right;\n",
              "    }\n",
              "</style>\n",
              "<table border=\"1\" class=\"dataframe\">\n",
              "  <thead>\n",
              "    <tr style=\"text-align: right;\">\n",
              "      <th></th>\n",
              "      <th></th>\n",
              "      <th>unique_items</th>\n",
              "      <th>total_quantity</th>\n",
              "      <th>total_amount</th>\n",
              "    </tr>\n",
              "    <tr>\n",
              "      <th>created_at</th>\n",
              "      <th>store_type</th>\n",
              "      <th></th>\n",
              "      <th></th>\n",
              "      <th></th>\n",
              "    </tr>\n",
              "  </thead>\n",
              "  <tbody>\n",
              "    <tr>\n",
              "      <th rowspan=\"4\" valign=\"top\">2015-12-31</th>\n",
              "      <th>other</th>\n",
              "      <td>3</td>\n",
              "      <td>6</td>\n",
              "      <td>34300.00</td>\n",
              "    </tr>\n",
              "    <tr>\n",
              "      <th>public_semi_public_service</th>\n",
              "      <td>1</td>\n",
              "      <td>1</td>\n",
              "      <td>833.90</td>\n",
              "    </tr>\n",
              "    <tr>\n",
              "      <th>small_medium_shop</th>\n",
              "      <td>27</td>\n",
              "      <td>88</td>\n",
              "      <td>2484.23</td>\n",
              "    </tr>\n",
              "    <tr>\n",
              "      <th>specialized_shop</th>\n",
              "      <td>2</td>\n",
              "      <td>20</td>\n",
              "      <td>107086.00</td>\n",
              "    </tr>\n",
              "    <tr>\n",
              "      <th rowspan=\"6\" valign=\"top\">2016-01-31</th>\n",
              "      <th>market</th>\n",
              "      <td>2</td>\n",
              "      <td>12</td>\n",
              "      <td>473.75</td>\n",
              "    </tr>\n",
              "    <tr>\n",
              "      <th>other</th>\n",
              "      <td>5</td>\n",
              "      <td>43</td>\n",
              "      <td>314741.00</td>\n",
              "    </tr>\n",
              "    <tr>\n",
              "      <th>private_service_provider</th>\n",
              "      <td>2</td>\n",
              "      <td>2</td>\n",
              "      <td>325.00</td>\n",
              "    </tr>\n",
              "    <tr>\n",
              "      <th>public_semi_public_service</th>\n",
              "      <td>2</td>\n",
              "      <td>2</td>\n",
              "      <td>276.79</td>\n",
              "    </tr>\n",
              "    <tr>\n",
              "      <th>small_medium_shop</th>\n",
              "      <td>73</td>\n",
              "      <td>472</td>\n",
              "      <td>31042.79</td>\n",
              "    </tr>\n",
              "    <tr>\n",
              "      <th>specialized_shop</th>\n",
              "      <td>7</td>\n",
              "      <td>24</td>\n",
              "      <td>29648.44</td>\n",
              "    </tr>\n",
              "    <tr>\n",
              "      <th rowspan=\"6\" valign=\"top\">2016-02-29</th>\n",
              "      <th>market</th>\n",
              "      <td>27</td>\n",
              "      <td>41</td>\n",
              "      <td>1974.04</td>\n",
              "    </tr>\n",
              "    <tr>\n",
              "      <th>other</th>\n",
              "      <td>4</td>\n",
              "      <td>75</td>\n",
              "      <td>527950.00</td>\n",
              "    </tr>\n",
              "    <tr>\n",
              "      <th>private_service_provider</th>\n",
              "      <td>5</td>\n",
              "      <td>11</td>\n",
              "      <td>1620.00</td>\n",
              "    </tr>\n",
              "    <tr>\n",
              "      <th>public_semi_public_service</th>\n",
              "      <td>2</td>\n",
              "      <td>5</td>\n",
              "      <td>1028.52</td>\n",
              "    </tr>\n",
              "    <tr>\n",
              "      <th>small_medium_shop</th>\n",
              "      <td>77</td>\n",
              "      <td>1033</td>\n",
              "      <td>224653.83</td>\n",
              "    </tr>\n",
              "    <tr>\n",
              "      <th>specialized_shop</th>\n",
              "      <td>16</td>\n",
              "      <td>77</td>\n",
              "      <td>117859.88</td>\n",
              "    </tr>\n",
              "    <tr>\n",
              "      <th rowspan=\"4\" valign=\"top\">2016-03-31</th>\n",
              "      <th>None</th>\n",
              "      <td>2</td>\n",
              "      <td>18</td>\n",
              "      <td>164.20</td>\n",
              "    </tr>\n",
              "    <tr>\n",
              "      <th>bulk_discount_shop</th>\n",
              "      <td>2</td>\n",
              "      <td>3</td>\n",
              "      <td>222.90</td>\n",
              "    </tr>\n",
              "    <tr>\n",
              "      <th>market</th>\n",
              "      <td>5</td>\n",
              "      <td>101</td>\n",
              "      <td>1807.68</td>\n",
              "    </tr>\n",
              "    <tr>\n",
              "      <th>other</th>\n",
              "      <td>6</td>\n",
              "      <td>487</td>\n",
              "      <td>3355801.43</td>\n",
              "    </tr>\n",
              "  </tbody>\n",
              "</table>\n",
              "</div>"
            ],
            "text/plain": [
              "                                       unique_items  total_quantity  \\\n",
              "created_at store_type                                                 \n",
              "2015-12-31 other                                  3               6   \n",
              "           public_semi_public_service             1               1   \n",
              "           small_medium_shop                     27              88   \n",
              "           specialized_shop                       2              20   \n",
              "2016-01-31 market                                 2              12   \n",
              "           other                                  5              43   \n",
              "           private_service_provider               2               2   \n",
              "           public_semi_public_service             2               2   \n",
              "           small_medium_shop                     73             472   \n",
              "           specialized_shop                       7              24   \n",
              "2016-02-29 market                                27              41   \n",
              "           other                                  4              75   \n",
              "           private_service_provider               5              11   \n",
              "           public_semi_public_service             2               5   \n",
              "           small_medium_shop                     77            1033   \n",
              "           specialized_shop                      16              77   \n",
              "2016-03-31 None                                   2              18   \n",
              "           bulk_discount_shop                     2               3   \n",
              "           market                                 5             101   \n",
              "           other                                  6             487   \n",
              "\n",
              "                                       total_amount  \n",
              "created_at store_type                                \n",
              "2015-12-31 other                           34300.00  \n",
              "           public_semi_public_service        833.90  \n",
              "           small_medium_shop                2484.23  \n",
              "           specialized_shop               107086.00  \n",
              "2016-01-31 market                            473.75  \n",
              "           other                          314741.00  \n",
              "           private_service_provider          325.00  \n",
              "           public_semi_public_service        276.79  \n",
              "           small_medium_shop               31042.79  \n",
              "           specialized_shop                29648.44  \n",
              "2016-02-29 market                           1974.04  \n",
              "           other                          527950.00  \n",
              "           private_service_provider         1620.00  \n",
              "           public_semi_public_service       1028.52  \n",
              "           small_medium_shop              224653.83  \n",
              "           specialized_shop               117859.88  \n",
              "2016-03-31 None                              164.20  \n",
              "           bulk_discount_shop                222.90  \n",
              "           market                           1807.68  \n",
              "           other                         3355801.43  "
            ]
          },
          "execution_count": 19,
          "metadata": {
            "tags": []
          },
          "output_type": "execute_result"
        }
      ],
      "source": [
        "data.groupby([pd.Grouper(key='created_at', freq='M'), 'store_type'])\\\n",
        "    .agg(unique_items=('item_code', 'nunique'),\n",
        "         total_quantity=('quantity','sum'),\n",
        "         total_amount=('price','sum')).head(20)"
      ]
    },
    {
      "cell_type": "code",
      "execution_count": null,
      "metadata": {
        "id": "R3K9siJLhn4D"
      },
      "outputs": [],
      "source": []
    }
  ],
  "metadata": {
    "colab": {
      "provenance": [],
      "include_colab_link": true
    },
    "kernelspec": {
      "display_name": "Python 3",
      "name": "python3"
    },
    "toc": {
      "base_numbering": 1,
      "nav_menu": {},
      "number_sections": true,
      "sideBar": true,
      "skip_h1_title": false,
      "title_cell": "Table of Contents",
      "title_sidebar": "Contents",
      "toc_cell": false,
      "toc_position": {},
      "toc_section_display": true,
      "toc_window_display": true
    }
  },
  "nbformat": 4,
  "nbformat_minor": 0
}